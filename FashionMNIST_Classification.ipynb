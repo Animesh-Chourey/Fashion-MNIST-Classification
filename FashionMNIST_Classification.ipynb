{
 "cells": [
  {
   "cell_type": "code",
   "execution_count": 1,
   "metadata": {},
   "outputs": [],
   "source": [
    "import torchvision\n",
    "import torchvision.transforms as transforms\n",
    "\n",
    "import torch\n",
    "import torch.nn as nn\n",
    "import torch.nn.functional as F\n",
    "import torch.optim as optim\n",
    "\n",
    "import numpy as np\n",
    "import matplotlib.pyplot as plt"
   ]
  },
  {
   "cell_type": "code",
   "execution_count": 2,
   "metadata": {},
   "outputs": [],
   "source": [
    "#Downloading the dataset\n",
    "train_set = torchvision.datasets.FashionMNIST(root = \".\", train= True ,download = True , transform = transforms.ToTensor())\n",
    "test_set = torchvision.datasets.FashionMNIST(root = \".\", train= False ,download = True , transform = transforms.ToTensor())"
   ]
  },
  {
   "cell_type": "code",
   "execution_count": 3,
   "metadata": {},
   "outputs": [],
   "source": [
    "training_loader = torch.utils.data.DataLoader(train_set, batch_size = 32, shuffle = False)\n",
    "test_loader = torch.utils.data.DataLoader(test_set , batch_size = 32, shuffle = False)"
   ]
  },
  {
   "cell_type": "code",
   "execution_count": 4,
   "metadata": {},
   "outputs": [
    {
     "data": {
      "text/plain": [
       "<torch._C.Generator at 0x2b5cfba8b10>"
      ]
     },
     "execution_count": 4,
     "metadata": {},
     "output_type": "execute_result"
    }
   ],
   "source": [
    "torch.manual_seed(0)"
   ]
  },
  {
   "cell_type": "code",
   "execution_count": null,
   "metadata": {},
   "outputs": [],
   "source": []
  },
  {
   "cell_type": "markdown",
   "metadata": {},
   "source": [
    "# B Question"
   ]
  },
  {
   "cell_type": "code",
   "execution_count": null,
   "metadata": {},
   "outputs": [],
   "source": []
  },
  {
   "cell_type": "code",
   "execution_count": 5,
   "metadata": {},
   "outputs": [],
   "source": [
    "#Creating a neural network class which extends the nn.Module base class\n",
    "\n",
    "#Created a network with ReLU activation function\n",
    "class Network_relu(nn.Module):\n",
    "    def __init__(self):\n",
    "        super().__init__()\n",
    "        \n",
    "        #Defining the neural network layers as class attributes\n",
    "        #Our Network has five layers comprising of two convolutional layers, 2 linear layers and 1 output layer.\n",
    "        \n",
    "        # in_channels = No of colour channels of the input image\n",
    "        # out_channels = No of output channels \n",
    "        # kernel_size = Height and width of the filter\n",
    "        self.conv1 = nn.Conv2d(in_channels = 1, out_channels = 32, kernel_size = 5)\n",
    "        nn.init.xavier_uniform_(self.conv1.weight) #Initializing the weights to the 1st convolutional layer\n",
    "        \n",
    "        self.conv2 = nn.Conv2d(in_channels = 32, out_channels = 64, kernel_size = 5)\n",
    "        nn.init.xavier_uniform_(self.conv2.weight) #Initializing the weights to the 2nd convolutional layer\n",
    "\n",
    "        # in_features = length of the flattened output from the previous layer\n",
    "        # out_features = Size of the output tensor\n",
    "        self.fc1 = nn.Linear(in_features = 64*4*4, out_features = 1024)\n",
    "        nn.init.xavier_uniform_(self.fc1.weight) #Initializing the weights to the 1st linear layer\n",
    "        \n",
    "        self.fc2 = nn.Linear(in_features = 1024, out_features = 256)\n",
    "        nn.init.xavier_uniform_(self.fc2.weight) #Initializing the weights to the 2nd linear layer\n",
    "        \n",
    "        self.out = nn.Linear(in_features = 256, out_features = 10)\n",
    "        nn.init.xavier_uniform_(self.out.weight) #Initializing the weights to the output layer\n",
    "\n",
    "    \n",
    "    #Mapping input tensor to the outpur tensor\n",
    "    def forward(self, t):\n",
    "\n",
    "        # 1st Convolutional Layer\n",
    "        t = self.conv1(t)\n",
    "        t = F.relu(t) #relu activation\n",
    "        t = F.max_pool2d(t, kernel_size = 2, stride = 2) #Max pooling\n",
    "\n",
    "        # 2nd Convolutional Layer\n",
    "        t = self.conv2(t)\n",
    "        t = F.relu(t) #relu activation\n",
    "        t = F.max_pool2d(t, kernel_size = 2, stride = 2) #Max pooling\n",
    "\n",
    "        # 1st Linear Layer\n",
    "        t = t.reshape(-1, 64*4*4)\n",
    "        t = self.fc1(t)\n",
    "        t = F.relu(t)  #relu activation\n",
    "\n",
    "        # 2nd Linear Layer\n",
    "        t = self.fc2(t)\n",
    "        t = F.relu(t)  #relu activation\n",
    "\n",
    "        # Output Layer\n",
    "        t = self.out(t)\n",
    "\n",
    "        return t"
   ]
  },
  {
   "cell_type": "code",
   "execution_count": 6,
   "metadata": {},
   "outputs": [],
   "source": [
    "#Function calculating the accuacy and the loss of the network on the training loader dataset\n",
    "\n",
    "def train_set_accuracy(training_loader, network, learning_rate):\n",
    "    \n",
    "    #optimizer object of stochastic gradient descent type having particular learning rate\n",
    "    optimizer = optim.SGD(network.parameters(), lr = learning_rate)\n",
    "    \n",
    "\n",
    "    total_loss = 0  #Variable to calculate the total loss of the dataset\n",
    "    total_correct = 0  #Variable that calculates the total correct predictions done by the network\n",
    "\n",
    "    for batch in training_loader: # Get Batch\n",
    "        training_images, training_labels = batch  #Getting tensor of images and tensor of corresponding labels\n",
    "        training_images, training_labels = training_images.cuda(), training_labels.cuda() #Passing the tensor to the GPU\n",
    "\n",
    "        predictions = network(training_images) # Pass the batch to the network\n",
    "        training_loss = F.cross_entropy(predictions, training_labels) # Calculating the cross entropy loss\n",
    "\n",
    "        optimizer.zero_grad()#Set the gradient values to zero so that already present values are not added to the new batch\n",
    "        training_loss.backward() # Calculate the gradients\n",
    "        optimizer.step() # Update the weights\n",
    "\n",
    "        total_loss += training_loss.item() #Add the loss caclulated per batch\n",
    "        \n",
    "        #Caculate the element wise equality to measure the accuracy between the predictions and the labels\n",
    "        total_correct += predictions.argmax(dim=1).eq(training_labels).sum().item()  \n",
    "  \n",
    "    return total_correct*100/len(train_set), total_loss*100/len(train_set)"
   ]
  },
  {
   "cell_type": "code",
   "execution_count": 7,
   "metadata": {},
   "outputs": [],
   "source": [
    "#Function calculating the accuacy and the loss of the network on the test loader dataset\n",
    "\n",
    "def test_set_accuracy(test_loader, network):\n",
    "\n",
    "    total_loss = 0 #Variable to calculate the total loss of the dataset\n",
    "    total_correct = 0 #Variable that calculates the total correct predictions done by the network\n",
    "\n",
    "    for batch in test_loader: # Get Batch\n",
    "        test_images, test_labels = batch #Getting tensor of images and tensor of corresponding labels\n",
    "        test_images, test_labels = test_images.cuda(), test_labels.cuda() #Passing the tensor to the GPU\n",
    "\n",
    "        predictions = network(test_images) # Pass the batch to the network\n",
    "        test_loss = F.cross_entropy(predictions, test_labels) # Calculating the cross entropy loss\n",
    "\n",
    "        total_loss += test_loss.item() #Add the loss caclulated per batch\n",
    "        \n",
    "        #Caculate the element wise equality to measure the accuracy between the predictions and the labels\n",
    "        total_correct += predictions.argmax(dim=1).eq(test_labels).sum().item()\n",
    "    \n",
    "    return total_correct*100/len(test_set), total_loss*100/len(test_set)"
   ]
  },
  {
   "cell_type": "code",
   "execution_count": 8,
   "metadata": {},
   "outputs": [
    {
     "data": {
      "text/plain": [
       "device(type='cuda')"
      ]
     },
     "execution_count": 8,
     "metadata": {},
     "output_type": "execute_result"
    }
   ],
   "source": [
    "# Change the device from CPU to GPU\n",
    "device = torch.device(\"cuda\")\n",
    "device"
   ]
  },
  {
   "cell_type": "code",
   "execution_count": 9,
   "metadata": {},
   "outputs": [],
   "source": [
    "# Creating an instance of our relu network class\n",
    "network_relu = Network_relu().to(device) #Passing the network model to the GPU"
   ]
  },
  {
   "cell_type": "code",
   "execution_count": 10,
   "metadata": {},
   "outputs": [],
   "source": [
    "#Creating arrays which will store the accuracy and loss for training and test data for ReLU\n",
    "\n",
    "relu_training_accuracy_per_epoch = [] #Accuracy on the training dataset after each epoch\n",
    "relu_training_loss_per_epoch = [] #Loss on the training dataset after each epoch\n",
    "relu_test_accuracy_per_epoch = [] #Accuracy on the test dataset after each epoch\n",
    "relu_test_loss_per_epoch = [] #Loss on the Test dataset after each epoch"
   ]
  },
  {
   "cell_type": "code",
   "execution_count": 11,
   "metadata": {},
   "outputs": [],
   "source": [
    "#Training the netwrok and testing it's efficiency on test data after several epochs for the relu network\n",
    "\n",
    "#Training with learning rate = 0.1\n",
    "epochs = 50\n",
    "for i in range(1,epochs+1):\n",
    "    #Training on training loader\n",
    "    training_accuracy_per_epoch, train_loss_per_epoch= train_set_accuracy(training_loader, network_relu, learning_rate =0.1)\n",
    "    #Storing accuracy and loss after every epoch on training data\n",
    "    relu_training_accuracy_per_epoch.append(training_accuracy_per_epoch)\n",
    "    relu_training_loss_per_epoch.append(train_loss_per_epoch)\n",
    "    \n",
    "    #Testing on test loader\n",
    "    test_accuracy_per_epoch, test_loss_per_epoch= test_set_accuracy(test_loader, network_relu)\n",
    "    #Storing accuracy and loss after every epoch on test data\n",
    "    relu_test_accuracy_per_epoch.append(test_accuracy_per_epoch)\n",
    "    relu_test_loss_per_epoch.append(test_loss_per_epoch)"
   ]
  },
  {
   "cell_type": "code",
   "execution_count": null,
   "metadata": {},
   "outputs": [],
   "source": []
  },
  {
   "cell_type": "code",
   "execution_count": 12,
   "metadata": {},
   "outputs": [
    {
     "name": "stdout",
     "output_type": "stream",
     "text": [
      "Final Training Accuracy Obtained : 99.44833333333334\n",
      "Final Test Accuracy Obtained : 90.52\n"
     ]
    }
   ],
   "source": [
    "#Final train and test accuracy obtained on relu activation network\n",
    "print(\"Final Training Accuracy Obtained : {}\".format(relu_training_accuracy_per_epoch[-1]))\n",
    "print(\"Final Test Accuracy Obtained : {}\".format(relu_test_accuracy_per_epoch[-1]))"
   ]
  },
  {
   "cell_type": "code",
   "execution_count": 13,
   "metadata": {},
   "outputs": [
    {
     "data": {
      "image/png": "[encoded data removed]",
      "text/plain": [
       "<Figure size 432x288 with 1 Axes>"
      ]
     },
     "metadata": {
      "needs_background": "light"
     },
     "output_type": "display_data"
    }
   ],
   "source": [
    "#Plotting the accuracy graph of training and test data on rely activation network\n",
    "epochs = range(1,51)\n",
    "plt.plot(epochs, relu_training_accuracy_per_epoch, 'g', label='Training Accuracy')\n",
    "plt.plot(epochs, relu_test_accuracy_per_epoch, 'b', label='Test Accuracy')\n",
    "plt.title('Training and Test accuracy')\n",
    "plt.xlabel('Epochs')\n",
    "plt.ylabel('Accuracy')\n",
    "plt.legend()\n",
    "plt.show()"
   ]
  },
  {
   "cell_type": "code",
   "execution_count": 14,
   "metadata": {},
   "outputs": [
    {
     "data": {
      "image/png": "[encoded data removed]",
      "text/plain": [
       "<Figure size 432x288 with 1 Axes>"
      ]
     },
     "metadata": {
      "needs_background": "light"
     },
     "output_type": "display_data"
    }
   ],
   "source": [
    "#Plotting the loss graph of training and test data\n",
    "epochs = range(1,51)\n",
    "plt.plot(epochs, relu_training_loss_per_epoch, 'g', label='Training Loss')\n",
    "plt.plot(epochs, relu_test_loss_per_epoch, 'b', label='Test Loss')\n",
    "plt.title('Training and Test Loss')\n",
    "plt.xlabel('Epochs')\n",
    "plt.ylabel('Loss')\n",
    "plt.legend()\n",
    "plt.show()"
   ]
  },
  {
   "cell_type": "code",
   "execution_count": null,
   "metadata": {},
   "outputs": [],
   "source": []
  },
  {
   "cell_type": "code",
   "execution_count": null,
   "metadata": {},
   "outputs": [],
   "source": []
  },
  {
   "cell_type": "markdown",
   "metadata": {},
   "source": [
    "# C Question"
   ]
  },
  {
   "cell_type": "markdown",
   "metadata": {},
   "source": [
    "### Tanh Activation Function Network"
   ]
  },
  {
   "cell_type": "code",
   "execution_count": 15,
   "metadata": {},
   "outputs": [],
   "source": [
    "#Creating a neural network class which extends the nn.Module base class\n",
    "\n",
    "#Created a network with Tanh activation function\n",
    "class Network_tanh(nn.Module):\n",
    "    def __init__(self):\n",
    "        super().__init__()\n",
    "        \n",
    "        #Defining the neural network layers as class attributes\n",
    "        #Our Network has five layers comprising of two convolutional layers, 2 linear layers and 1 output layer.\n",
    "        \n",
    "        # in_channels = No of colour channels of the input image\n",
    "        # out_channels = No of output channels \n",
    "        # kernel_size = Height and width of the filter\n",
    "        self.conv1 = nn.Conv2d(in_channels = 1, out_channels = 32, kernel_size = 5)\n",
    "        nn.init.xavier_uniform_(self.conv1.weight)\n",
    "        \n",
    "        self.conv2 = nn.Conv2d(in_channels = 32, out_channels = 64, kernel_size = 5)\n",
    "        nn.init.xavier_uniform_(self.conv2.weight)\n",
    "\n",
    "        #Fully Connected Layer Initialization\n",
    "        # in_features = length of the flattened output from the previous layer\n",
    "        # out_features = Size of the output tensor\n",
    "        self.fc1 = nn.Linear(in_features = 64*4*4, out_features = 1024)\n",
    "        nn.init.xavier_uniform_(self.fc1.weight)\n",
    "        \n",
    "        self.fc2 = nn.Linear(in_features = 1024, out_features = 256)\n",
    "        nn.init.xavier_uniform_(self.fc2.weight)\n",
    "        \n",
    "        self.out = nn.Linear(in_features = 256, out_features = 10)\n",
    "        nn.init.xavier_uniform_(self.out.weight)\n",
    "\n",
    "    def forward(self, t):\n",
    "\n",
    "        # 1st Convolutional Layer\n",
    "        t = self.conv1(t)\n",
    "        t = torch.tanh(t)   #tanh activation\n",
    "        t = F.max_pool2d(t, kernel_size = 2, stride = 2)  #Max pooling\n",
    "\n",
    "        # 2nd Convolutional Layer\n",
    "        t = self.conv2(t)\n",
    "        t = torch.tanh(t)   #tanh activation\n",
    "        t = F.max_pool2d(t, kernel_size = 2, stride = 2)  #Max pooling\n",
    "\n",
    "        # 1st Linear Layer\n",
    "        t = t.reshape(-1, 64*4*4)\n",
    "        t = self.fc1(t)\n",
    "        t = torch.tanh(t)   #tanh activation\n",
    "\n",
    "        # 2nd Linear Layer\n",
    "        t = self.fc2(t)\n",
    "        t = torch.tanh(t)   #tanh activation\n",
    "\n",
    "        # Output Layer\n",
    "        t = self.out(t)    \n",
    "\n",
    "        return t"
   ]
  },
  {
   "cell_type": "code",
   "execution_count": 16,
   "metadata": {},
   "outputs": [],
   "source": [
    "# Creating an instance of our tanh network class\n",
    "network_tanh = Network_tanh().to(device) #Passing the network model to the GPU"
   ]
  },
  {
   "cell_type": "code",
   "execution_count": 17,
   "metadata": {},
   "outputs": [],
   "source": [
    "#Creating arrays which will store the accuracy and loss for training and test data for Tanh\n",
    "\n",
    "tanh_training_accuracy_per_epoch = [] #Accuracy on the training dataset after each epoch\n",
    "tanh_training_loss_per_epoch = [] #Loss on the training dataset after each epoch\n",
    "tanh_test_accuracy_per_epoch = [] #Accuracy on the test dataset after each epoch\n",
    "tanh_test_loss_per_epoch = [] #Loss on the Test dataset after each epoch"
   ]
  },
  {
   "cell_type": "code",
   "execution_count": 18,
   "metadata": {},
   "outputs": [],
   "source": [
    "#Training the netwrok and testing it's efficiency on test data after several epochs for the tanh network\n",
    "\n",
    "#Training with learning rate = 0.1\n",
    "epochs = 50\n",
    "for i in range(1,epochs+1):\n",
    "    training_accuracy_per_epoch, train_loss_per_epoch= train_set_accuracy(training_loader, network_tanh, learning_rate =0.1)\n",
    "    tanh_training_accuracy_per_epoch.append(training_accuracy_per_epoch)\n",
    "    tanh_training_loss_per_epoch.append(train_loss_per_epoch)\n",
    "    \n",
    "    test_accuracy_per_epoch, test_loss_per_epoch= test_set_accuracy(test_loader, network_tanh)\n",
    "    tanh_test_accuracy_per_epoch.append(test_accuracy_per_epoch)\n",
    "    tanh_test_loss_per_epoch.append(test_loss_per_epoch)"
   ]
  },
  {
   "cell_type": "code",
   "execution_count": 19,
   "metadata": {},
   "outputs": [
    {
     "name": "stdout",
     "output_type": "stream",
     "text": [
      "Final Tanh Training Accuracy Obtained : 100.0\n",
      "Final Tanh Test Accuracy Obtained : 91.35\n"
     ]
    }
   ],
   "source": [
    "#Final train and test accuracy obtained on tanh activation network\n",
    "print(\"Final Tanh Training Accuracy Obtained : {}\".format(tanh_training_accuracy_per_epoch[-1]))\n",
    "print(\"Final Tanh Test Accuracy Obtained : {}\".format(tanh_test_accuracy_per_epoch[-1]))"
   ]
  },
  {
   "cell_type": "code",
   "execution_count": null,
   "metadata": {},
   "outputs": [],
   "source": []
  },
  {
   "cell_type": "code",
   "execution_count": null,
   "metadata": {},
   "outputs": [],
   "source": []
  },
  {
   "cell_type": "markdown",
   "metadata": {},
   "source": [
    "### Sigmoid  Activation Function Network"
   ]
  },
  {
   "cell_type": "code",
   "execution_count": 20,
   "metadata": {},
   "outputs": [],
   "source": [
    "#Creating a neural network class which extends the nn.Module base class\n",
    "\n",
    "#Created a network with Sigmoid activation function\n",
    "class Network_sigmoid(nn.Module):\n",
    "    def __init__(self):\n",
    "        super().__init__()\n",
    "        \n",
    "        #Defining the neural network layers as class attributes\n",
    "        #Our Network has five layers comprising of two convolutional layers, 2 linear layers and 1 output layer.\n",
    "        \n",
    "        # in_channels = No of colour channels of the input image\n",
    "        # out_channels = No of output channels \n",
    "        # kernel_size = Height and width of the filter \n",
    "        self.conv1 = nn.Conv2d(in_channels = 1, out_channels = 32, kernel_size = 5)\n",
    "        nn.init.xavier_uniform_(self.conv1.weight)\n",
    "        \n",
    "        self.conv2 = nn.Conv2d(in_channels = 32, out_channels = 64, kernel_size = 5)\n",
    "        nn.init.xavier_uniform_(self.conv2.weight)\n",
    "\n",
    "        #Fully Connected Layer Initialization\n",
    "        # in_features = length of the flattened output from the previous layer\n",
    "        # out_features = Size of the output tensor\n",
    "        self.fc1 = nn.Linear(in_features = 64*4*4, out_features = 1024)\n",
    "        nn.init.xavier_uniform_(self.fc1.weight)\n",
    "        \n",
    "        self.fc2 = nn.Linear(in_features = 1024, out_features = 256)\n",
    "        nn.init.xavier_uniform_(self.fc2.weight)\n",
    "        \n",
    "        self.out = nn.Linear(in_features = 256, out_features = 10)\n",
    "        nn.init.xavier_uniform_(self.out.weight)\n",
    "\n",
    "    def forward(self, t):\n",
    "\n",
    "        # 1st Convolutional Layer\n",
    "        t = self.conv1(t)\n",
    "        t = torch.sigmoid(t)   #sigmoid activation\n",
    "        t = F.max_pool2d(t, kernel_size = 2, stride = 2)  #Max pooling\n",
    "\n",
    "        # 2nd Convolutional Layer\n",
    "        t = self.conv2(t)\n",
    "        t = torch.sigmoid(t)   #sigmoid activation\n",
    "        t = F.max_pool2d(t, kernel_size = 2, stride = 2)  #Max pooling\n",
    "\n",
    "        # 1st Linear Layer\n",
    "        t = t.reshape(-1, 64*4*4)\n",
    "        t = self.fc1(t)\n",
    "        t = torch.sigmoid(t)   #sigmoid activation\n",
    "\n",
    "        # 2nd Linear Layer\n",
    "        t = self.fc2(t)\n",
    "        t = torch.sigmoid(t)   #sigmoid activation\n",
    "\n",
    "        # Output Layer\n",
    "        t = self.out(t)\n",
    "\n",
    "        return t"
   ]
  },
  {
   "cell_type": "code",
   "execution_count": 21,
   "metadata": {},
   "outputs": [],
   "source": [
    "# Creating an instance of our sigmoid network class\n",
    "network_sigmoid = Network_sigmoid().to(device) #Passing the network model to the GPU"
   ]
  },
  {
   "cell_type": "code",
   "execution_count": 22,
   "metadata": {},
   "outputs": [],
   "source": [
    "#Creating arrays which will store the accuracy and loss for training and test data for Sigmoid\n",
    "\n",
    "sigmoid_training_accuracy_per_epoch = [] #Accuracy on the training dataset after each epoch\n",
    "sigmoid_training_loss_per_epoch = [] #Loss on the training dataset after each epoch\n",
    "sigmoid_test_accuracy_per_epoch = [] #Accuracy on the test dataset after each epoch\n",
    "sigmoid_test_loss_per_epoch = [] #Loss on the Test dataset after each epoch"
   ]
  },
  {
   "cell_type": "code",
   "execution_count": 23,
   "metadata": {},
   "outputs": [],
   "source": [
    "#Training the netwrok and testing it's efficiency on test data after several epochs for the sigmoid network\n",
    "\n",
    "#Training with learning rate = 0.1\n",
    "epochs = 50\n",
    "for i in range(1,epochs+1):\n",
    "    training_accuracy_per_epoch, train_loss_per_epoch= train_set_accuracy(training_loader, network_sigmoid, learning_rate =0.1)\n",
    "    sigmoid_training_accuracy_per_epoch.append(training_accuracy_per_epoch)\n",
    "    sigmoid_training_loss_per_epoch.append(train_loss_per_epoch)\n",
    "    \n",
    "    test_accuracy_per_epoch, test_loss_per_epoch= test_set_accuracy(test_loader, network_sigmoid)\n",
    "    sigmoid_test_accuracy_per_epoch.append(test_accuracy_per_epoch)\n",
    "    sigmoid_test_loss_per_epoch.append(test_loss_per_epoch)"
   ]
  },
  {
   "cell_type": "code",
   "execution_count": 30,
   "metadata": {},
   "outputs": [
    {
     "name": "stdout",
     "output_type": "stream",
     "text": [
      "Final Sigmoid Training Accuracy Obtained : 92.63333333333334\n",
      "Final Sigmoid Test Accuracy Obtained : 90.51\n"
     ]
    }
   ],
   "source": [
    "print(\"Final Sigmoid Training Accuracy Obtained : {}\".format(sigmoid_training_accuracy_per_epoch[-1]))\n",
    "print(\"Final Sigmoid Test Accuracy Obtained : {}\".format(sigmoid_test_accuracy_per_epoch[-1]))"
   ]
  },
  {
   "cell_type": "code",
   "execution_count": null,
   "metadata": {},
   "outputs": [],
   "source": []
  },
  {
   "cell_type": "markdown",
   "metadata": {},
   "source": [
    "### Elu  Activation Function Network"
   ]
  },
  {
   "cell_type": "code",
   "execution_count": 25,
   "metadata": {},
   "outputs": [],
   "source": [
    "class Network_elu(nn.Module):\n",
    "    def __init__(self):\n",
    "        super().__init__()\n",
    "        \n",
    "        #Defining the neural network layers as class attributes\n",
    "        #Our Network has five layers comprising of two convolutional layers, 2 linear layers and 1 output layer.\n",
    "        \n",
    "        # in_channels = No of colour channels of the input image\n",
    "        # out_channels = No of output channels \n",
    "        # kernel_size = Height and width of the filter \n",
    "        self.conv1 = nn.Conv2d(in_channels = 1, out_channels = 32, kernel_size = 5)\n",
    "        nn.init.xavier_uniform_(self.conv1.weight)\n",
    "        \n",
    "        self.conv2 = nn.Conv2d(in_channels = 32, out_channels = 64, kernel_size = 5)\n",
    "        nn.init.xavier_uniform_(self.conv2.weight)\n",
    "\n",
    "        #Fully Connected Layer Initialization\n",
    "        # in_features = length of the flattened output from the previous layer\n",
    "        # out_features = Size of the output tensor\n",
    "        self.fc1 = nn.Linear(in_features = 64*4*4, out_features = 1024)\n",
    "        nn.init.xavier_uniform_(self.fc1.weight)\n",
    "        \n",
    "        self.fc2 = nn.Linear(in_features = 1024, out_features = 256)\n",
    "        nn.init.xavier_uniform_(self.fc2.weight)\n",
    "        \n",
    "        self.out = nn.Linear(in_features = 256, out_features = 10)\n",
    "        nn.init.xavier_uniform_(self.out.weight)\n",
    "\n",
    "    def forward(self, t):\n",
    "\n",
    "        # 1st Convolutional Layer\n",
    "        t = self.conv1(t)\n",
    "        t = F.elu(t)   #elu activation\n",
    "        t = F.max_pool2d(t, kernel_size = 2, stride = 2)  #Max pooling\n",
    "\n",
    "        # 2nd Convolutional Layer\n",
    "        t = self.conv2(t)\n",
    "        t = F.elu(t)   #elu activation\n",
    "        t = F.max_pool2d(t, kernel_size = 2, stride = 2)  #Max pooling\n",
    "\n",
    "        # 1st Linear Layer\n",
    "        t = t.reshape(-1, 64*4*4)\n",
    "        t = self.fc1(t)\n",
    "        t = F.elu(t)   #elu activation\n",
    "\n",
    "        # 2nd Linear Layer\n",
    "        t = self.fc2(t)\n",
    "        t = F.elu(t)   #elu activation\n",
    "\n",
    "        # Output Layer\n",
    "        t = self.out(t)\n",
    "\n",
    "        return t"
   ]
  },
  {
   "cell_type": "code",
   "execution_count": 26,
   "metadata": {},
   "outputs": [],
   "source": [
    "# Creating an instance of our elu network class\n",
    "network_elu = Network_elu().to(device)  #Passing the network model to the GPU"
   ]
  },
  {
   "cell_type": "code",
   "execution_count": 27,
   "metadata": {},
   "outputs": [],
   "source": [
    "#Creating arrays which will store the accuracy and loss for training and test data for elu\n",
    "\n",
    "elu_training_accuracy_per_epoch = [] #Accuracy on the training dataset after each epoch\n",
    "elu_training_loss_per_epoch = [] #Loss on the training dataset after each epoch\n",
    "elu_test_accuracy_per_epoch = [] #Accuracy on the test dataset after each epoch\n",
    "elu_test_loss_per_epoch = [] #Loss on the Test dataset after each epoch"
   ]
  },
  {
   "cell_type": "code",
   "execution_count": 28,
   "metadata": {},
   "outputs": [],
   "source": [
    "#Training the netwrok and testing it's efficiency on test data after several epochs for the elu network\n",
    "\n",
    "#Training with learning rate = 0.1\n",
    "epochs = 50\n",
    "for i in range(1,epochs+1):\n",
    "    training_accuracy_per_epoch, train_loss_per_epoch= train_set_accuracy(training_loader, network_elu, learning_rate =0.1)\n",
    "    elu_training_accuracy_per_epoch.append(training_accuracy_per_epoch)\n",
    "    elu_training_loss_per_epoch.append(train_loss_per_epoch)\n",
    "    \n",
    "    test_accuracy_per_epoch, test_loss_per_epoch= test_set_accuracy(test_loader, network_elu)\n",
    "    elu_test_accuracy_per_epoch.append(test_accuracy_per_epoch)\n",
    "    elu_test_loss_per_epoch.append(test_loss_per_epoch)"
   ]
  },
  {
   "cell_type": "code",
   "execution_count": 29,
   "metadata": {},
   "outputs": [
    {
     "name": "stdout",
     "output_type": "stream",
     "text": [
      "Final Elu Training Accuracy Obtained : 99.35\n",
      "Final Elu Test Accuracy Obtained : 90.28\n"
     ]
    }
   ],
   "source": [
    "print(\"Final Elu Training Accuracy Obtained : {}\".format(elu_training_accuracy_per_epoch[-1]))\n",
    "print(\"Final Elu Test Accuracy Obtained : {}\".format(elu_test_accuracy_per_epoch[-1]))"
   ]
  },
  {
   "cell_type": "code",
   "execution_count": null,
   "metadata": {},
   "outputs": [],
   "source": []
  },
  {
   "cell_type": "markdown",
   "metadata": {},
   "source": [
    "### Trying Learning rate = 0.001"
   ]
  },
  {
   "cell_type": "code",
   "execution_count": 31,
   "metadata": {},
   "outputs": [],
   "source": [
    "#Trying different learning rate"
   ]
  },
  {
   "cell_type": "code",
   "execution_count": 32,
   "metadata": {},
   "outputs": [],
   "source": [
    "#Creating arrays which will store the accuracy and loss for training and test data for relu\n",
    "\n",
    "relu2_training_accuracy_per_epoch = [] #Accuracy on the training dataset after each epoch\n",
    "relu2_training_loss_per_epoch = [] #Loss on the training dataset after each epoch\n",
    "relu2_test_accuracy_per_epoch = [] #Accuracy on the test dataset after each epoch\n",
    "relu2_test_loss_per_epoch = [] #Loss on the Test dataset after each epoch"
   ]
  },
  {
   "cell_type": "code",
   "execution_count": 33,
   "metadata": {},
   "outputs": [],
   "source": [
    "# Creating an instance of our relu network class\n",
    "network_relu_2 = Network_relu().to(device)  #Passing the network model to the GPU"
   ]
  },
  {
   "cell_type": "code",
   "execution_count": 34,
   "metadata": {},
   "outputs": [],
   "source": [
    "#Training the netwrok and testing it's efficiency on test data after several epochs for the relu network\n",
    "\n",
    "#Training with learning rate = 0.001\n",
    "epochs = 50\n",
    "for i in range(1,epochs+1):\n",
    "    training_accuracy_per_epoch, train_loss_per_epoch= train_set_accuracy(training_loader, network_relu_2, learning_rate =0.001)\n",
    "    relu2_training_accuracy_per_epoch.append(training_accuracy_per_epoch)\n",
    "    relu2_training_loss_per_epoch.append(train_loss_per_epoch)\n",
    "    \n",
    "    test_accuracy_per_epoch, test_loss_per_epoch= test_set_accuracy(test_loader, network_relu_2)\n",
    "    relu2_test_accuracy_per_epoch.append(test_accuracy_per_epoch)\n",
    "    relu2_test_loss_per_epoch.append(test_loss_per_epoch)"
   ]
  },
  {
   "cell_type": "code",
   "execution_count": 43,
   "metadata": {},
   "outputs": [
    {
     "name": "stdout",
     "output_type": "stream",
     "text": [
      "Training accuracy after changing learning rate to 0.001 :-> [49.285, 69.14166666666667, 72.89, 75.06833333333333, 76.81166666666667, 78.04166666666667, 79.06833333333333, 79.97, 80.68333333333334, 81.41666666666667, 81.96, 82.48, 82.91666666666667, 83.29166666666667, 83.65666666666667, 83.99666666666667, 84.29333333333334, 84.62833333333333, 84.91, 85.22333333333333, 85.47166666666666, 85.725, 85.89666666666666, 86.08666666666667, 86.28666666666666, 86.475, 86.61833333333334, 86.745, 86.90666666666667, 87.05666666666667, 87.165, 87.29333333333334, 87.41, 87.52, 87.645, 87.74, 87.83, 87.925, 88.02166666666666, 88.115, 88.21, 88.315, 88.42666666666666, 88.52666666666667, 88.60166666666667, 88.70833333333333, 88.79833333333333, 88.875, 88.98333333333333, 89.08166666666666]\n"
     ]
    }
   ],
   "source": [
    "print(\"Training accuracy after changing learning rate to 0.001 :->{}\".format(relu2_training_accuracy_per_epoch))"
   ]
  },
  {
   "cell_type": "code",
   "execution_count": 44,
   "metadata": {},
   "outputs": [
    {
     "name": "stdout",
     "output_type": "stream",
     "text": [
      "Test accuracy after changing learning rate to 0.001 :->[66.21, 72.26, 74.59, 76.14, 77.49, 78.31, 79.25, 80.03, 80.74, 81.3, 81.88, 82.33, 82.69, 83.15, 83.42, 83.7, 83.96, 84.18, 84.42, 84.83, 84.81, 85.01, 85.26, 85.38, 85.53, 85.62, 85.77, 85.97, 86.12, 86.34, 86.41, 86.46, 86.55, 86.68, 86.82, 86.85, 86.99, 87.08, 87.17, 87.35, 87.37, 87.4, 87.52, 87.62, 87.71, 87.77, 87.78, 87.87, 87.89, 87.95]\n"
     ]
    }
   ],
   "source": [
    "print(\"Test accuracy after changing learning rate to 0.001 :->{}\".format(relu2_test_accuracy_per_epoch))"
   ]
  },
  {
   "cell_type": "code",
   "execution_count": null,
   "metadata": {},
   "outputs": [],
   "source": []
  },
  {
   "cell_type": "markdown",
   "metadata": {},
   "source": [
    "### Trying Learning rate = 0.5"
   ]
  },
  {
   "cell_type": "code",
   "execution_count": 37,
   "metadata": {},
   "outputs": [],
   "source": [
    "#Creating arrays which will store the accuracy and loss for training and test data for relu\n",
    "\n",
    "relu3_training_accuracy_per_epoch = [] #Accuracy on the training dataset after each epoch\n",
    "relu3_training_loss_per_epoch = [] #Loss on the training dataset after each epoch\n",
    "relu3_test_accuracy_per_epoch = [] #Accuracy on the test dataset after each epoch\n",
    "relu3_test_loss_per_epoch = [] #Loss on the Test dataset after each epoch"
   ]
  },
  {
   "cell_type": "code",
   "execution_count": 38,
   "metadata": {},
   "outputs": [],
   "source": [
    "# Creating an instance of our relu network class\n",
    "network_relu_3 = Network_relu().to(device)  #Passing the network model to the GPU"
   ]
  },
  {
   "cell_type": "code",
   "execution_count": 39,
   "metadata": {},
   "outputs": [],
   "source": [
    "#Training the netwrok and testing it's efficiency on test data after several epochs for the relu network\n",
    "\n",
    "#Training with learning rate = 0.5\n",
    "epochs = 50\n",
    "for i in range(1,epochs+1):\n",
    "    training_accuracy_per_epoch, train_loss_per_epoch= train_set_accuracy(training_loader, network_relu_3, learning_rate =0.5)\n",
    "    relu3_training_accuracy_per_epoch.append(training_accuracy_per_epoch)\n",
    "    relu3_training_loss_per_epoch.append(train_loss_per_epoch)\n",
    "    \n",
    "    test_accuracy_per_epoch, test_loss_per_epoch= test_set_accuracy(test_loader, network_relu_3)\n",
    "    relu3_test_accuracy_per_epoch.append(test_accuracy_per_epoch)\n",
    "    relu3_test_loss_per_epoch.append(test_loss_per_epoch)"
   ]
  },
  {
   "cell_type": "code",
   "execution_count": 45,
   "metadata": {},
   "outputs": [
    {
     "name": "stdout",
     "output_type": "stream",
     "text": [
      "Training accuracy after changing learning rate to 0.5 :->[75.49666666666667, 85.16, 86.89333333333333, 88.01, 88.0, 87.47333333333333, 88.40333333333334, 89.16666666666667, 89.80333333333333, 90.32333333333334, 89.64, 90.11166666666666, 89.34166666666667, 87.44, 89.10833333333333, 89.64166666666667, 89.62, 89.70833333333333, 89.69833333333334, 90.18333333333334, 90.17, 89.92333333333333, 90.08, 89.69, 89.44333333333333, 89.75166666666667, 89.49333333333334, 88.71666666666667, 88.59666666666666, 89.33333333333333, 87.90833333333333, 10.658333333333333, 10.035, 10.035, 10.035, 10.035, 10.035, 10.035, 10.035, 10.035, 10.035, 10.035, 10.035, 10.035, 10.035, 10.035, 10.035, 10.035, 10.035, 10.035]\n"
     ]
    }
   ],
   "source": [
    "print(\"Training accuracy after changing learning rate to 0.5 :->{}\".format(relu3_training_accuracy_per_epoch))"
   ]
  },
  {
   "cell_type": "code",
   "execution_count": 46,
   "metadata": {},
   "outputs": [
    {
     "name": "stdout",
     "output_type": "stream",
     "text": [
      "Test accuracy after changing learning rate to 0.5 :->[83.99, 85.68, 86.47, 85.97, 84.63, 85.93, 86.2, 85.84, 86.26, 86.74, 87.09, 86.64, 83.14, 85.11, 85.3, 85.38, 85.89, 85.14, 85.74, 86.15, 85.45, 86.18, 85.32, 84.05, 85.55, 85.05, 84.88, 85.36, 85.97, 84.37, 76.92, 10.0, 10.0, 10.0, 10.0, 10.0, 10.0, 10.0, 10.0, 10.0, 10.0, 10.0, 10.0, 10.0, 10.0, 10.0, 10.0, 10.0, 10.0, 10.0]\n"
     ]
    }
   ],
   "source": [
    "print(\"Test accuracy after changing learning rate to 0.5 :->{}\".format(relu3_test_accuracy_per_epoch))"
   ]
  },
  {
   "cell_type": "code",
   "execution_count": null,
   "metadata": {},
   "outputs": [],
   "source": []
  },
  {
   "cell_type": "code",
   "execution_count": null,
   "metadata": {},
   "outputs": [],
   "source": []
  },
  {
   "cell_type": "markdown",
   "metadata": {},
   "source": [
    "### Trying Learning rate = 1"
   ]
  },
  {
   "cell_type": "code",
   "execution_count": 47,
   "metadata": {},
   "outputs": [],
   "source": [
    "#Creating arrays which will store the accuracy and loss for training and test data for relu\n",
    "\n",
    "relu4_training_accuracy_per_epoch = [] #Accuracy on the training dataset after each epoch\n",
    "relu4_training_loss_per_epoch = [] #Loss on the training dataset after each epoch\n",
    "relu4_test_accuracy_per_epoch = [] #Accuracy on the test dataset after each epoch\n",
    "relu4_test_loss_per_epoch = [] #Loss on the Test dataset after each epoch"
   ]
  },
  {
   "cell_type": "code",
   "execution_count": 48,
   "metadata": {},
   "outputs": [],
   "source": [
    "# Creating an instance of our relu network class\n",
    "network_relu_4 = Network_relu().to(device)  #Passing the network model to the GPU"
   ]
  },
  {
   "cell_type": "code",
   "execution_count": 49,
   "metadata": {},
   "outputs": [],
   "source": [
    "#Training the netwrok and testing it's efficiency on test data after several epochs for the relu network\n",
    "\n",
    "#Training with learning rate = 1\n",
    "epochs = 50\n",
    "for i in range(1,epochs+1):\n",
    "    training_accuracy_per_epoch, train_loss_per_epoch= train_set_accuracy(training_loader, network_relu_4, learning_rate =1)\n",
    "    relu4_training_accuracy_per_epoch.append(training_accuracy_per_epoch)\n",
    "    relu4_training_loss_per_epoch.append(train_loss_per_epoch)\n",
    "    \n",
    "    test_accuracy_per_epoch, test_loss_per_epoch= test_set_accuracy(test_loader, network_relu_4)\n",
    "    relu4_test_accuracy_per_epoch.append(test_accuracy_per_epoch)\n",
    "    relu4_test_loss_per_epoch.append(test_loss_per_epoch)"
   ]
  },
  {
   "cell_type": "code",
   "execution_count": 50,
   "metadata": {},
   "outputs": [
    {
     "name": "stdout",
     "output_type": "stream",
     "text": [
      "Training accuracy after changing learning rate to 1 :->[10.085, 10.058333333333334, 10.058333333333334, 10.058333333333334, 10.058333333333334, 10.058333333333334, 10.058333333333334, 10.058333333333334, 10.058333333333334, 10.058333333333334, 10.058333333333334, 10.058333333333334, 10.058333333333334, 10.058333333333334, 10.058333333333334, 10.058333333333334, 10.058333333333334, 10.058333333333334, 10.058333333333334, 10.058333333333334, 10.058333333333334, 10.058333333333334, 10.058333333333334, 10.058333333333334, 10.058333333333334, 10.058333333333334, 10.058333333333334, 10.058333333333334, 10.058333333333334, 10.058333333333334, 10.058333333333334, 10.058333333333334, 10.058333333333334, 10.058333333333334, 10.058333333333334, 10.058333333333334, 10.058333333333334, 10.058333333333334, 10.058333333333334, 10.058333333333334, 10.058333333333334, 10.058333333333334, 10.058333333333334, 10.058333333333334, 10.058333333333334, 10.058333333333334, 10.058333333333334, 10.058333333333334, 10.058333333333334, 10.058333333333334]\n"
     ]
    }
   ],
   "source": [
    "print(\"Training accuracy after changing learning rate to 1 :->{}\".format(relu4_training_accuracy_per_epoch))"
   ]
  },
  {
   "cell_type": "code",
   "execution_count": 51,
   "metadata": {},
   "outputs": [
    {
     "name": "stdout",
     "output_type": "stream",
     "text": [
      "Test accuracy after changing learning rate to 1 :->[10.0, 10.0, 10.0, 10.0, 10.0, 10.0, 10.0, 10.0, 10.0, 10.0, 10.0, 10.0, 10.0, 10.0, 10.0, 10.0, 10.0, 10.0, 10.0, 10.0, 10.0, 10.0, 10.0, 10.0, 10.0, 10.0, 10.0, 10.0, 10.0, 10.0, 10.0, 10.0, 10.0, 10.0, 10.0, 10.0, 10.0, 10.0, 10.0, 10.0, 10.0, 10.0, 10.0, 10.0, 10.0, 10.0, 10.0, 10.0, 10.0, 10.0]\n"
     ]
    }
   ],
   "source": [
    "print(\"Test accuracy after changing learning rate to 1 :->{}\".format(relu4_test_accuracy_per_epoch))"
   ]
  },
  {
   "cell_type": "code",
   "execution_count": null,
   "metadata": {},
   "outputs": [],
   "source": []
  },
  {
   "cell_type": "code",
   "execution_count": null,
   "metadata": {},
   "outputs": [],
   "source": []
  },
  {
   "cell_type": "markdown",
   "metadata": {},
   "source": [
    "### Trying Learning rate = 10"
   ]
  },
  {
   "cell_type": "code",
   "execution_count": 52,
   "metadata": {},
   "outputs": [],
   "source": [
    "#Creating arrays which will store the accuracy and loss for training and test data for relu\n",
    "\n",
    "relu5_training_accuracy_per_epoch = [] #Accuracy on the training dataset after each epoch\n",
    "relu5_training_loss_per_epoch = [] #Loss on the training dataset after each epoch\n",
    "relu5_test_accuracy_per_epoch = [] #Accuracy on the test dataset after each epoch\n",
    "relu5_test_loss_per_epoch = [] #Loss on the Test dataset after each epoch"
   ]
  },
  {
   "cell_type": "code",
   "execution_count": 53,
   "metadata": {},
   "outputs": [],
   "source": [
    "# Creating an instance of our relu network class\n",
    "network_relu_5 = Network_relu().to(device)  #Passing the network model to the GPU"
   ]
  },
  {
   "cell_type": "code",
   "execution_count": 54,
   "metadata": {},
   "outputs": [],
   "source": [
    "#Training the netwrok and testing it's efficiency on test data after several epochs for the relu network\n",
    "\n",
    "#Training with learning rate = 10\n",
    "epochs = 50\n",
    "for i in range(1,epochs+1):\n",
    "    training_accuracy_per_epoch, train_loss_per_epoch= train_set_accuracy(training_loader, network_relu_5, learning_rate =10)\n",
    "    relu5_training_accuracy_per_epoch.append(training_accuracy_per_epoch)\n",
    "    relu5_training_loss_per_epoch.append(train_loss_per_epoch)\n",
    "    \n",
    "    test_accuracy_per_epoch, test_loss_per_epoch= test_set_accuracy(test_loader, network_relu_5)\n",
    "    relu5_test_accuracy_per_epoch.append(test_accuracy_per_epoch)\n",
    "    relu5_test_loss_per_epoch.append(test_loss_per_epoch)"
   ]
  },
  {
   "cell_type": "code",
   "execution_count": 55,
   "metadata": {},
   "outputs": [
    {
     "name": "stdout",
     "output_type": "stream",
     "text": [
      "Training accuracy after changing learning rate to 10 :->[10.001666666666667, 10.0, 10.0, 10.0, 10.0, 10.0, 10.0, 10.0, 10.0, 10.0, 10.0, 10.0, 10.0, 10.0, 10.0, 10.0, 10.0, 10.0, 10.0, 10.0, 10.0, 10.0, 10.0, 10.0, 10.0, 10.0, 10.0, 10.0, 10.0, 10.0, 10.0, 10.0, 10.0, 10.0, 10.0, 10.0, 10.0, 10.0, 10.0, 10.0, 10.0, 10.0, 10.0, 10.0, 10.0, 10.0, 10.0, 10.0, 10.0, 10.0]\n"
     ]
    }
   ],
   "source": [
    "print(\"Training accuracy after changing learning rate to 10 :->{}\".format(relu5_training_accuracy_per_epoch))"
   ]
  },
  {
   "cell_type": "code",
   "execution_count": 56,
   "metadata": {},
   "outputs": [
    {
     "name": "stdout",
     "output_type": "stream",
     "text": [
      "Test accuracy after changing learning rate to 10 :->[10.0, 10.0, 10.0, 10.0, 10.0, 10.0, 10.0, 10.0, 10.0, 10.0, 10.0, 10.0, 10.0, 10.0, 10.0, 10.0, 10.0, 10.0, 10.0, 10.0, 10.0, 10.0, 10.0, 10.0, 10.0, 10.0, 10.0, 10.0, 10.0, 10.0, 10.0, 10.0, 10.0, 10.0, 10.0, 10.0, 10.0, 10.0, 10.0, 10.0, 10.0, 10.0, 10.0, 10.0, 10.0, 10.0, 10.0, 10.0, 10.0, 10.0]\n"
     ]
    }
   ],
   "source": [
    "print(\"Test accuracy after changing learning rate to 10 :->{}\".format(relu5_test_accuracy_per_epoch))"
   ]
  },
  {
   "cell_type": "code",
   "execution_count": null,
   "metadata": {},
   "outputs": [],
   "source": []
  },
  {
   "cell_type": "code",
   "execution_count": null,
   "metadata": {},
   "outputs": [],
   "source": []
  },
  {
   "cell_type": "code",
   "execution_count": null,
   "metadata": {},
   "outputs": [],
   "source": []
  },
  {
   "cell_type": "markdown",
   "metadata": {},
   "source": [
    "# D question"
   ]
  },
  {
   "cell_type": "code",
   "execution_count": null,
   "metadata": {},
   "outputs": [],
   "source": []
  },
  {
   "cell_type": "markdown",
   "metadata": {},
   "source": [
    "### Adding droput of 0.3 to the 2nd fully connected layer"
   ]
  },
  {
   "cell_type": "code",
   "execution_count": 57,
   "metadata": {},
   "outputs": [],
   "source": [
    "#Creating a neural network class which extends the nn.Module base class\n",
    "\n",
    "#Created a network with ReLU activation function with network having dropout\n",
    "class Network_relu_dropout(nn.Module):\n",
    "    def __init__(self):\n",
    "        super().__init__()\n",
    "        \n",
    "        #Defining the neural network layers as class attributes\n",
    "        #Our Network has five layers comprising of two convolutional layers, 2 linear layers and 1 output layer.\n",
    "        \n",
    "        # in_channels = No of colour channels of the input image\n",
    "        # out_channels = No of output channels \n",
    "        # kernel_size = Height and width of the filter\n",
    "        self.conv1 = nn.Conv2d(in_channels = 1, out_channels = 32, kernel_size = 5)\n",
    "        nn.init.xavier_uniform_(self.conv1.weight) #Initializing the weights to the 1st convolutional layer\n",
    "        \n",
    "        self.conv2 = nn.Conv2d(in_channels = 32, out_channels = 64, kernel_size = 5)\n",
    "        nn.init.xavier_uniform_(self.conv2.weight) #Initializing the weights to the 2nd convolutional layer\n",
    "\n",
    "        # in_features = length of the flattened output from the previous layer\n",
    "        # out_features = Size of the output tensor\n",
    "        self.fc1 = nn.Linear(in_features = 64*4*4, out_features = 1024)\n",
    "        nn.init.xavier_uniform_(self.fc1.weight) #Initializing the weights to the 1st linear layer\n",
    "        self.dropout = nn.Dropout(p = 0.3)  #Initializing dropout of 0.3\n",
    "        \n",
    "        self.fc2 = nn.Linear(in_features = 1024, out_features = 256)\n",
    "        nn.init.xavier_uniform_(self.fc2.weight) #Initializing the weights to the 2nd linear layer\n",
    "        \n",
    "        self.out = nn.Linear(in_features = 256, out_features = 10)\n",
    "        nn.init.xavier_uniform_(self.out.weight) #Initializing the weights to the output layer\n",
    "\n",
    "    \n",
    "    #Mapping input tensor to the outpur tensor\n",
    "    def forward(self, t):\n",
    "\n",
    "        # 1st Convolutional Layer\n",
    "        t = self.conv1(t)\n",
    "        t = F.relu(t)   #relu activation\n",
    "        t = F.max_pool2d(t, kernel_size = 2, stride = 2)  #Max pooling\n",
    "\n",
    "        # 2nd Convolutional Layer\n",
    "        t = self.conv2(t)\n",
    "        t = F.relu(t)   #relu activation\n",
    "        t = F.max_pool2d(t, kernel_size = 2, stride = 2)  #Max pooling\n",
    "\n",
    "        # 1st Linear Layer\n",
    "        t = t.reshape(-1, 64*4*4)\n",
    "        t = self.fc1(t)\n",
    "        t = F.relu(t)   #relu activation\n",
    "       # t = self.dropout(t) \n",
    "\n",
    "        # 2nd Linear Layer\n",
    "        t = self.fc2(t)\n",
    "        t = self.dropout(t) #Adding dropout\n",
    "        t = F.relu(t)   #relu activation\n",
    "\n",
    "        # Output Layer\n",
    "        t = self.out(t)\n",
    "\n",
    "        return t"
   ]
  },
  {
   "cell_type": "code",
   "execution_count": 58,
   "metadata": {},
   "outputs": [],
   "source": [
    "# Creating an instance of our network class\n",
    "network_relu_dropout = Network_relu_dropout().to(device) #Passing the network model to the GPU"
   ]
  },
  {
   "cell_type": "code",
   "execution_count": 59,
   "metadata": {},
   "outputs": [],
   "source": [
    "#Creating arrays which will store the accuracy and loss for training and test data for relu with dropout\n",
    "\n",
    "relu_dropout_training_accuracy_per_epoch = [] #Accuracy on the training dataset after each epoch\n",
    "relu_dropout_training_loss_per_epoch = [] #Loss on the training dataset after each epoch\n",
    "relu_dropout_test_accuracy_per_epoch = [] #Accuracy on the test dataset after each epoch\n",
    "relu_dropout_test_loss_per_epoch = [] #Loss on the Test dataset after each epoch"
   ]
  },
  {
   "cell_type": "code",
   "execution_count": 60,
   "metadata": {},
   "outputs": [],
   "source": [
    "#Training the netwrok and testing it's efficiency on test data after several epochs for the relu network with dropout\n",
    "\n",
    "#Training with learning rate = 0.1\n",
    "epochs = 50\n",
    "for i in range(1,epochs+1):\n",
    "    #Training on training loader\n",
    "    training_accuracy_per_epoch, train_loss_per_epoch= train_set_accuracy(training_loader, network_relu_dropout, learning_rate =0.1)\n",
    "    #Storing accuracy and loss after every epoch on training data\n",
    "    relu_dropout_training_accuracy_per_epoch.append(training_accuracy_per_epoch)\n",
    "    relu_dropout_training_loss_per_epoch.append(train_loss_per_epoch)\n",
    "    \n",
    "    #Testing on test loader\n",
    "    test_accuracy_per_epoch, test_loss_per_epoch= test_set_accuracy(test_loader, network_relu_dropout)\n",
    "    #Storing accuracy and loss after every epoch on test data\n",
    "    relu_dropout_test_accuracy_per_epoch.append(test_accuracy_per_epoch)\n",
    "    relu_dropout_test_loss_per_epoch.append(test_loss_per_epoch)"
   ]
  },
  {
   "cell_type": "code",
   "execution_count": 61,
   "metadata": {},
   "outputs": [
    {
     "name": "stdout",
     "output_type": "stream",
     "text": [
      "Final Training Accuracy Obtained on adding dropout: 98.76666666666667\n",
      "Final Test Accuracy Obtained on adding dropout: 90.0\n"
     ]
    }
   ],
   "source": [
    "#Final train and test accuracy obtained after dropout = 0.3\n",
    "print(\"Final Training Accuracy Obtained on adding dropout: {}\".format(relu_dropout_training_accuracy_per_epoch[-1]))\n",
    "print(\"Final Test Accuracy Obtained on adding dropout: {}\".format(relu_dropout_test_accuracy_per_epoch[-1]))"
   ]
  },
  {
   "cell_type": "code",
   "execution_count": 62,
   "metadata": {},
   "outputs": [
    {
     "data": {
      "image/png": "[encoded data removed]",
      "text/plain": [
       "<Figure size 432x288 with 1 Axes>"
      ]
     },
     "metadata": {
      "needs_background": "light"
     },
     "output_type": "display_data"
    }
   ],
   "source": [
    "#Plotting the accuracy graph of training and test data after adding dropout\n",
    "epochs = range(1,51)\n",
    "plt.plot(epochs, relu_dropout_training_accuracy_per_epoch, 'g', label='Training Accuracy')\n",
    "plt.plot(epochs, relu_dropout_test_accuracy_per_epoch, 'b', label='Test Accuracy')\n",
    "plt.title('Training and Test accuracy after dropout')\n",
    "plt.xlabel('Epochs')\n",
    "plt.ylabel('Accuracy')\n",
    "plt.legend()\n",
    "plt.show()"
   ]
  },
  {
   "cell_type": "code",
   "execution_count": null,
   "metadata": {},
   "outputs": [],
   "source": []
  },
  {
   "cell_type": "code",
   "execution_count": null,
   "metadata": {},
   "outputs": [],
   "source": []
  },
  {
   "cell_type": "markdown",
   "metadata": {},
   "source": [
    "### Increasing droput on 0.5 to the 2nd fully connected layer"
   ]
  },
  {
   "cell_type": "code",
   "execution_count": 63,
   "metadata": {},
   "outputs": [],
   "source": [
    "#Creating a neural network class which extends the nn.Module base class\n",
    "\n",
    "#Created a network with ReLU activation function with network having dropout\n",
    "class Network_relu_dropout2(nn.Module):\n",
    "    def __init__(self):\n",
    "        super().__init__()\n",
    "        \n",
    "        #Defining the neural network layers as class attributes\n",
    "        #Our Network has five layers comprising of two convolutional layers, 2 linear layers and 1 output layer.\n",
    "        \n",
    "        # in_channels = No of colour channels of the input image\n",
    "        # out_channels = No of output channels \n",
    "        # kernel_size = Height and width of the filter\n",
    "        self.conv1 = nn.Conv2d(in_channels = 1, out_channels = 32, kernel_size = 5)\n",
    "        nn.init.xavier_uniform_(self.conv1.weight) #Initializing the weights to the 1st convolutional layer\n",
    "        \n",
    "        self.conv2 = nn.Conv2d(in_channels = 32, out_channels = 64, kernel_size = 5)\n",
    "        nn.init.xavier_uniform_(self.conv2.weight) #Initializing the weights to the 2nd convolutional layer\n",
    "\n",
    "        # in_features = length of the flattened output from the previous layer\n",
    "        # out_features = Size of the output tensor\n",
    "        self.fc1 = nn.Linear(in_features = 64*4*4, out_features = 1024)\n",
    "        nn.init.xavier_uniform_(self.fc1.weight) #Initializing the weights to the 1st linear layer\n",
    "        \n",
    "        self.fc2 = nn.Linear(in_features = 1024, out_features = 256)\n",
    "        nn.init.xavier_uniform_(self.fc2.weight) #Initializing the weights to the 2nd linear layer\n",
    "        self.dropout = nn.Dropout(p = 0.5) #Initializing dropout of 0.5\n",
    "        \n",
    "        self.out = nn.Linear(in_features = 256, out_features = 10)\n",
    "        nn.init.xavier_uniform_(self.out.weight) #Initializing the weights to the output layer\n",
    "\n",
    "    \n",
    "    #Mapping input tensor to the outpur tensor\n",
    "    def forward(self, t):\n",
    "\n",
    "        # 1st Convolutional Layer\n",
    "        t = self.conv1(t)\n",
    "        t = F.relu(t)   #relu activation\n",
    "        t = F.max_pool2d(t, kernel_size = 2, stride = 2)  #Max pooling\n",
    "\n",
    "        # 2nd Convolutional Layer\n",
    "        t = self.conv2(t)\n",
    "        t = F.relu(t)   #relu activation\n",
    "        t = F.max_pool2d(t, kernel_size = 2, stride = 2)  #Max pooling\n",
    "\n",
    "        # 1st Linear Layer\n",
    "        t = t.reshape(-1, 64*4*4)\n",
    "        t = self.fc1(t)\n",
    "        t = F.relu(t)   #relu activation\n",
    "        #t = self.dropout(t) \n",
    "\n",
    "        # 2nd Linear Layer\n",
    "        t = self.fc2(t)\n",
    "        t = self.dropout(t) #Adding dropout\n",
    "        t = F.relu(t)   #relu activation        \n",
    "\n",
    "        # Output Layer\n",
    "        t = self.out(t)\n",
    "\n",
    "        return t"
   ]
  },
  {
   "cell_type": "code",
   "execution_count": 64,
   "metadata": {},
   "outputs": [],
   "source": [
    "# Creating an instance of our network class\n",
    "network_relu_dropout2 = Network_relu_dropout2().to(device) #Passing the network model to the GPU"
   ]
  },
  {
   "cell_type": "code",
   "execution_count": 65,
   "metadata": {},
   "outputs": [],
   "source": [
    "#Creating arrays which will store the accuracy and loss for training and test data for relu with dropout\n",
    "\n",
    "relu_dropout2_training_accuracy_per_epoch = [] #Accuracy on the training dataset after each epoch\n",
    "relu_dropout2_training_loss_per_epoch = [] #Loss on the training dataset after each epoch\n",
    "relu_dropout2_test_accuracy_per_epoch = [] #Accuracy on the test dataset after each epoch\n",
    "relu_dropout2_test_loss_per_epoch = [] #Loss on the Test dataset after each epoch"
   ]
  },
  {
   "cell_type": "code",
   "execution_count": 66,
   "metadata": {},
   "outputs": [],
   "source": [
    "#Training the netwrok and testing it's efficiency on test data after several epochs for the relu network with dropout\n",
    "\n",
    "#Training with learning rate = 0.1\n",
    "epochs = 50\n",
    "for i in range(1,epochs+1):\n",
    "    #Training on training loader\n",
    "    training_accuracy_per_epoch, train_loss_per_epoch= train_set_accuracy(training_loader, network_relu_dropout2, learning_rate =0.1)\n",
    "    #Storing accuracy and loss after every epoch on training data\n",
    "    relu_dropout2_training_accuracy_per_epoch.append(training_accuracy_per_epoch)\n",
    "    relu_dropout2_training_loss_per_epoch.append(train_loss_per_epoch)\n",
    "    \n",
    "    #Testing on test loader\n",
    "    test_accuracy_per_epoch, test_loss_per_epoch= test_set_accuracy(test_loader, network_relu_dropout2)\n",
    "    #Storing accuracy and loss after every epoch on test data\n",
    "    relu_dropout2_test_accuracy_per_epoch.append(test_accuracy_per_epoch)\n",
    "    relu_dropout2_test_loss_per_epoch.append(test_loss_per_epoch)"
   ]
  },
  {
   "cell_type": "code",
   "execution_count": 67,
   "metadata": {},
   "outputs": [
    {
     "name": "stdout",
     "output_type": "stream",
     "text": [
      "Final Training Accuracy Obtained after increasing dropout: 98.18666666666667\n",
      "Final Test Accuracy Obtained after increasing dropout: 90.6\n"
     ]
    }
   ],
   "source": [
    "#Final train and test accuracy obtained after dropout = 0.5\n",
    "print(\"Final Training Accuracy Obtained after increasing dropout: {}\".format(relu_dropout2_training_accuracy_per_epoch[-1]))\n",
    "print(\"Final Test Accuracy Obtained after increasing dropout: {}\".format(relu_dropout2_test_accuracy_per_epoch[-1]))"
   ]
  },
  {
   "cell_type": "code",
   "execution_count": null,
   "metadata": {},
   "outputs": [],
   "source": []
  },
  {
   "cell_type": "markdown",
   "metadata": {},
   "source": [
    "### Decreasing droput to 0.2 on the 2nd fully connected layer"
   ]
  },
  {
   "cell_type": "code",
   "execution_count": 68,
   "metadata": {},
   "outputs": [],
   "source": [
    "#Creating a neural network class which extends the nn.Module base class\n",
    "\n",
    "#Created a network with ReLU activation function with network having dropout\n",
    "class Network_relu_dropout3(nn.Module):\n",
    "    def __init__(self):\n",
    "        super().__init__()\n",
    "        \n",
    "        #Defining the neural network layers as class attributes\n",
    "        #Our Network has five layers comprising of two convolutional layers, 2 linear layers and 1 output layer.\n",
    "        \n",
    "        # in_channels = No of colour channels of the input image\n",
    "        # out_channels = No of output channels \n",
    "        # kernel_size = Height and width of the filter\n",
    "        self.conv1 = nn.Conv2d(in_channels = 1, out_channels = 32, kernel_size = 5)\n",
    "        nn.init.xavier_uniform_(self.conv1.weight) #Initializing the weights to the 1st convolutional layer\n",
    "        \n",
    "        self.conv2 = nn.Conv2d(in_channels = 32, out_channels = 64, kernel_size = 5)\n",
    "        nn.init.xavier_uniform_(self.conv2.weight) #Initializing the weights to the 2nd convolutional layer\n",
    "\n",
    "        # in_features = length of the flattened output from the previous layer\n",
    "        # out_features = Size of the output tensor\n",
    "        self.fc1 = nn.Linear(in_features = 64*4*4, out_features = 1024)\n",
    "        nn.init.xavier_uniform_(self.fc1.weight) #Initializing the weights to the 1st linear layer\n",
    "        self.dropout = nn.Dropout(p = 0.2) #Initializing dropout of 0.2\n",
    "        \n",
    "        self.fc2 = nn.Linear(in_features = 1024, out_features = 256)\n",
    "        nn.init.xavier_uniform_(self.fc2.weight) #Initializing the weights to the 2nd linear layer\n",
    "        \n",
    "        self.out = nn.Linear(in_features = 256, out_features = 10)\n",
    "        nn.init.xavier_uniform_(self.out.weight) #Initializing the weights to the output layer\n",
    "\n",
    "    \n",
    "    #Mapping input tensor to the outpur tensor\n",
    "    def forward(self, t):\n",
    "\n",
    "        # 1st Convolutional Layer\n",
    "        t = self.conv1(t)\n",
    "        t = F.relu(t)   #relu activation\n",
    "        t = F.max_pool2d(t, kernel_size = 2, stride = 2)  #Max pooling\n",
    "\n",
    "        # 2nd Convolutional Layer\n",
    "        t = self.conv2(t)\n",
    "        t = F.relu(t)   #relu activation\n",
    "        t = F.max_pool2d(t, kernel_size = 2, stride = 2)  #Max pooling\n",
    "\n",
    "        # 1st Linear Layer\n",
    "        t = t.reshape(-1, 64*4*4)\n",
    "        t = self.fc1(t)\n",
    "        t = F.relu(t)   #relu activation\n",
    "        t = self.dropout(t) #Adding dropout\n",
    "\n",
    "        # 2nd Linear Layer\n",
    "        t = self.fc2(t)\n",
    "        t = F.relu(t)   #relu activation\n",
    "#         t = self.dropout(t)\n",
    "\n",
    "        # Output Layer\n",
    "        t = self.out(t)\n",
    "\n",
    "        return t"
   ]
  },
  {
   "cell_type": "code",
   "execution_count": 69,
   "metadata": {},
   "outputs": [],
   "source": [
    "# Creating an instance of our network class\n",
    "network_relu_dropout3 = Network_relu_dropout3().to(device) #Passing the network model to the GPU"
   ]
  },
  {
   "cell_type": "code",
   "execution_count": 70,
   "metadata": {},
   "outputs": [],
   "source": [
    "#Creating arrays which will store the accuracy and loss for training and test data for relu with dropout\n",
    "\n",
    "relu_dropout3_training_accuracy_per_epoch = [] #Accuracy on the training dataset after each epoch\n",
    "relu_dropout3_training_loss_per_epoch = [] #Loss on the training dataset after each epoch\n",
    "relu_dropout3_test_accuracy_per_epoch = [] #Accuracy on the test dataset after each epoch\n",
    "relu_dropout3_test_loss_per_epoch = [] #Loss on the Test dataset after each epoch"
   ]
  },
  {
   "cell_type": "code",
   "execution_count": 71,
   "metadata": {},
   "outputs": [],
   "source": [
    "#Training the netwrok and testing it's efficiency on test data after several epochs for the relu network with dropout\n",
    "\n",
    "#Training with learning rate = 0.1\n",
    "epochs = 50\n",
    "for i in range(1,epochs+1):\n",
    "    #Training on training loader\n",
    "    training_accuracy_per_epoch, train_loss_per_epoch= train_set_accuracy(training_loader, network_relu_dropout2, learning_rate =0.1)\n",
    "    #Storing accuracy and loss after every epoch on training data\n",
    "    relu_dropout3_training_accuracy_per_epoch.append(training_accuracy_per_epoch)\n",
    "    relu_dropout3_training_loss_per_epoch.append(train_loss_per_epoch)\n",
    "    \n",
    "    #Testing on test loader\n",
    "    test_accuracy_per_epoch, test_loss_per_epoch= test_set_accuracy(test_loader, network_relu_dropout2)\n",
    "    #Storing accuracy and loss after every epoch on test data\n",
    "    relu_dropout3_test_accuracy_per_epoch.append(test_accuracy_per_epoch)\n",
    "    relu_dropout3_test_loss_per_epoch.append(test_loss_per_epoch)"
   ]
  },
  {
   "cell_type": "code",
   "execution_count": 72,
   "metadata": {},
   "outputs": [
    {
     "name": "stdout",
     "output_type": "stream",
     "text": [
      "Final Training Accuracy Obtained after decreasing dropout: 99.175\n",
      "Final Test Accuracy Obtained after decreasing dropout: 90.85\n"
     ]
    }
   ],
   "source": [
    "#Final train and test accuracy obtained after dropout = 0.2\n",
    "print(\"Final Training Accuracy Obtained after decreasing dropout: {}\".format(relu_dropout3_training_accuracy_per_epoch[-1]))\n",
    "print(\"Final Test Accuracy Obtained after decreasing dropout: {}\".format(relu_dropout3_test_accuracy_per_epoch[-1]))"
   ]
  },
  {
   "cell_type": "code",
   "execution_count": null,
   "metadata": {},
   "outputs": [],
   "source": []
  }
 ],
 "metadata": {
  "kernelspec": {
   "display_name": "Python 3",
   "language": "python",
   "name": "python3"
  },
  "language_info": {
   "codemirror_mode": {
    "name": "ipython",
    "version": 3
   },
   "file_extension": ".py",
   "mimetype": "text/x-python",
   "name": "python",
   "nbconvert_exporter": "python",
   "pygments_lexer": "ipython3",
   "version": "3.6.8"
  }
 },
 "nbformat": 4,
 "nbformat_minor": 5
}
